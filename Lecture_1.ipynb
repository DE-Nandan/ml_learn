{
 "cells": [
  {
   "cell_type": "code",
   "execution_count": 3,
   "id": "73d3eadc",
   "metadata": {},
   "outputs": [
    {
     "data": {
      "text/plain": [
       "4"
      ]
     },
     "execution_count": 3,
     "metadata": {},
     "output_type": "execute_result"
    }
   ],
   "source": [
    "2+2"
   ]
  },
  {
   "cell_type": "markdown",
   "id": "ff0417a4",
   "metadata": {},
   "source": [
    "# heading\n",
    "## heading2\n",
    "* bullet point\n",
    "* bp2\n",
    "\n",
    "Learn More about markdown"
   ]
  },
  {
   "cell_type": "raw",
   "id": "99799790",
   "metadata": {},
   "source": [
    "# heading\n",
    "## heading2\n",
    "* bullet point\n",
    "* bp2\n",
    "\n",
    "Learn More about markdown"
   ]
  },
  {
   "cell_type": "code",
   "execution_count": null,
   "id": "7245228d",
   "metadata": {},
   "outputs": [],
   "source": []
  }
 ],
 "metadata": {
  "kernelspec": {
   "display_name": "Python 3 (ipykernel)",
   "language": "python",
   "name": "python3"
  },
  "language_info": {
   "codemirror_mode": {
    "name": "ipython",
    "version": 3
   },
   "file_extension": ".py",
   "mimetype": "text/x-python",
   "name": "python",
   "nbconvert_exporter": "python",
   "pygments_lexer": "ipython3",
   "version": "3.10.0"
  }
 },
 "nbformat": 4,
 "nbformat_minor": 5
}
